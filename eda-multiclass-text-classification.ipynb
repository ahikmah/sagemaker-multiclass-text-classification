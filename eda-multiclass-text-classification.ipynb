{
 "cells": [
  {
   "cell_type": "code",
   "execution_count": 1,
   "id": "69a292cf",
   "metadata": {
    "_cell_guid": "b1076dfc-b9ad-4769-8c92-a6c4dae69d19",
    "_uuid": "8f2839f25d086af736a60e9eeb907d3b93b6e0e5",
    "execution": {
     "iopub.execute_input": "2024-09-04T16:11:05.052605Z",
     "iopub.status.busy": "2024-09-04T16:11:05.051346Z",
     "iopub.status.idle": "2024-09-04T16:11:09.438294Z",
     "shell.execute_reply": "2024-09-04T16:11:09.437063Z"
    },
    "papermill": {
     "duration": 4.397647,
     "end_time": "2024-09-04T16:11:09.441109",
     "exception": false,
     "start_time": "2024-09-04T16:11:05.043462",
     "status": "completed"
    },
    "tags": []
   },
   "outputs": [],
   "source": [
    "import pandas as pd\n",
    "\n",
    "dataset_path = '/kaggle/input/newscorpora/newsCorpora.csv'\n",
    "\n",
    "df = pd.read_csv(dataset_path, sep='\\t', names=['ID', 'TITLE', 'URL', 'PUBLISHER', 'CATEGORY', 'STORY', 'HOSTNAME', 'TIMESTAMP'])"
   ]
  },
  {
   "cell_type": "code",
   "execution_count": 2,
   "id": "a0c5e305",
   "metadata": {
    "execution": {
     "iopub.execute_input": "2024-09-04T16:11:09.454158Z",
     "iopub.status.busy": "2024-09-04T16:11:09.453680Z",
     "iopub.status.idle": "2024-09-04T16:11:09.482250Z",
     "shell.execute_reply": "2024-09-04T16:11:09.481032Z"
    },
    "papermill": {
     "duration": 0.038013,
     "end_time": "2024-09-04T16:11:09.484849",
     "exception": false,
     "start_time": "2024-09-04T16:11:09.446836",
     "status": "completed"
    },
    "tags": []
   },
   "outputs": [
    {
     "data": {
      "text/html": [
       "<div>\n",
       "<style scoped>\n",
       "    .dataframe tbody tr th:only-of-type {\n",
       "        vertical-align: middle;\n",
       "    }\n",
       "\n",
       "    .dataframe tbody tr th {\n",
       "        vertical-align: top;\n",
       "    }\n",
       "\n",
       "    .dataframe thead th {\n",
       "        text-align: right;\n",
       "    }\n",
       "</style>\n",
       "<table border=\"1\" class=\"dataframe\">\n",
       "  <thead>\n",
       "    <tr style=\"text-align: right;\">\n",
       "      <th></th>\n",
       "      <th>ID</th>\n",
       "      <th>TITLE</th>\n",
       "      <th>URL</th>\n",
       "      <th>PUBLISHER</th>\n",
       "      <th>CATEGORY</th>\n",
       "      <th>STORY</th>\n",
       "      <th>HOSTNAME</th>\n",
       "      <th>TIMESTAMP</th>\n",
       "    </tr>\n",
       "  </thead>\n",
       "  <tbody>\n",
       "    <tr>\n",
       "      <th>0</th>\n",
       "      <td>1</td>\n",
       "      <td>Fed official says weak data caused by weather,...</td>\n",
       "      <td>http://www.latimes.com/business/money/la-fi-mo...</td>\n",
       "      <td>Los Angeles Times</td>\n",
       "      <td>b</td>\n",
       "      <td>ddUyU0VZz0BRneMioxUPQVP6sIxvM</td>\n",
       "      <td>www.latimes.com</td>\n",
       "      <td>1394470370698</td>\n",
       "    </tr>\n",
       "    <tr>\n",
       "      <th>1</th>\n",
       "      <td>2</td>\n",
       "      <td>Fed's Charles Plosser sees high bar for change...</td>\n",
       "      <td>http://www.livemint.com/Politics/H2EvwJSK2VE6O...</td>\n",
       "      <td>Livemint</td>\n",
       "      <td>b</td>\n",
       "      <td>ddUyU0VZz0BRneMioxUPQVP6sIxvM</td>\n",
       "      <td>www.livemint.com</td>\n",
       "      <td>1394470371207</td>\n",
       "    </tr>\n",
       "    <tr>\n",
       "      <th>2</th>\n",
       "      <td>3</td>\n",
       "      <td>US open: Stocks fall after Fed official hints ...</td>\n",
       "      <td>http://www.ifamagazine.com/news/us-open-stocks...</td>\n",
       "      <td>IFA Magazine</td>\n",
       "      <td>b</td>\n",
       "      <td>ddUyU0VZz0BRneMioxUPQVP6sIxvM</td>\n",
       "      <td>www.ifamagazine.com</td>\n",
       "      <td>1394470371550</td>\n",
       "    </tr>\n",
       "    <tr>\n",
       "      <th>3</th>\n",
       "      <td>4</td>\n",
       "      <td>Fed risks falling 'behind the curve', Charles ...</td>\n",
       "      <td>http://www.ifamagazine.com/news/fed-risks-fall...</td>\n",
       "      <td>IFA Magazine</td>\n",
       "      <td>b</td>\n",
       "      <td>ddUyU0VZz0BRneMioxUPQVP6sIxvM</td>\n",
       "      <td>www.ifamagazine.com</td>\n",
       "      <td>1394470371793</td>\n",
       "    </tr>\n",
       "    <tr>\n",
       "      <th>4</th>\n",
       "      <td>5</td>\n",
       "      <td>Fed's Plosser: Nasty Weather Has Curbed Job Gr...</td>\n",
       "      <td>http://www.moneynews.com/Economy/federal-reser...</td>\n",
       "      <td>Moneynews</td>\n",
       "      <td>b</td>\n",
       "      <td>ddUyU0VZz0BRneMioxUPQVP6sIxvM</td>\n",
       "      <td>www.moneynews.com</td>\n",
       "      <td>1394470372027</td>\n",
       "    </tr>\n",
       "  </tbody>\n",
       "</table>\n",
       "</div>"
      ],
      "text/plain": [
       "   ID                                              TITLE  \\\n",
       "0   1  Fed official says weak data caused by weather,...   \n",
       "1   2  Fed's Charles Plosser sees high bar for change...   \n",
       "2   3  US open: Stocks fall after Fed official hints ...   \n",
       "3   4  Fed risks falling 'behind the curve', Charles ...   \n",
       "4   5  Fed's Plosser: Nasty Weather Has Curbed Job Gr...   \n",
       "\n",
       "                                                 URL          PUBLISHER  \\\n",
       "0  http://www.latimes.com/business/money/la-fi-mo...  Los Angeles Times   \n",
       "1  http://www.livemint.com/Politics/H2EvwJSK2VE6O...           Livemint   \n",
       "2  http://www.ifamagazine.com/news/us-open-stocks...       IFA Magazine   \n",
       "3  http://www.ifamagazine.com/news/fed-risks-fall...       IFA Magazine   \n",
       "4  http://www.moneynews.com/Economy/federal-reser...          Moneynews   \n",
       "\n",
       "  CATEGORY                          STORY             HOSTNAME      TIMESTAMP  \n",
       "0        b  ddUyU0VZz0BRneMioxUPQVP6sIxvM      www.latimes.com  1394470370698  \n",
       "1        b  ddUyU0VZz0BRneMioxUPQVP6sIxvM     www.livemint.com  1394470371207  \n",
       "2        b  ddUyU0VZz0BRneMioxUPQVP6sIxvM  www.ifamagazine.com  1394470371550  \n",
       "3        b  ddUyU0VZz0BRneMioxUPQVP6sIxvM  www.ifamagazine.com  1394470371793  \n",
       "4        b  ddUyU0VZz0BRneMioxUPQVP6sIxvM    www.moneynews.com  1394470372027  "
      ]
     },
     "execution_count": 2,
     "metadata": {},
     "output_type": "execute_result"
    }
   ],
   "source": [
    "df.head()"
   ]
  },
  {
   "cell_type": "code",
   "execution_count": 3,
   "id": "48c8ee3b",
   "metadata": {
    "execution": {
     "iopub.execute_input": "2024-09-04T16:11:09.499038Z",
     "iopub.status.busy": "2024-09-04T16:11:09.498605Z",
     "iopub.status.idle": "2024-09-04T16:11:09.540354Z",
     "shell.execute_reply": "2024-09-04T16:11:09.539067Z"
    },
    "papermill": {
     "duration": 0.052382,
     "end_time": "2024-09-04T16:11:09.543274",
     "exception": false,
     "start_time": "2024-09-04T16:11:09.490892",
     "status": "completed"
    },
    "tags": []
   },
   "outputs": [
    {
     "data": {
      "text/html": [
       "<div>\n",
       "<style scoped>\n",
       "    .dataframe tbody tr th:only-of-type {\n",
       "        vertical-align: middle;\n",
       "    }\n",
       "\n",
       "    .dataframe tbody tr th {\n",
       "        vertical-align: top;\n",
       "    }\n",
       "\n",
       "    .dataframe thead th {\n",
       "        text-align: right;\n",
       "    }\n",
       "</style>\n",
       "<table border=\"1\" class=\"dataframe\">\n",
       "  <thead>\n",
       "    <tr style=\"text-align: right;\">\n",
       "      <th></th>\n",
       "      <th>ID</th>\n",
       "      <th>TIMESTAMP</th>\n",
       "    </tr>\n",
       "  </thead>\n",
       "  <tbody>\n",
       "    <tr>\n",
       "      <th>count</th>\n",
       "      <td>422419.000000</td>\n",
       "      <td>4.224190e+05</td>\n",
       "    </tr>\n",
       "    <tr>\n",
       "      <th>mean</th>\n",
       "      <td>211536.764594</td>\n",
       "      <td>1.400445e+12</td>\n",
       "    </tr>\n",
       "    <tr>\n",
       "      <th>std</th>\n",
       "      <td>122102.839707</td>\n",
       "      <td>3.733088e+09</td>\n",
       "    </tr>\n",
       "    <tr>\n",
       "      <th>min</th>\n",
       "      <td>1.000000</td>\n",
       "      <td>1.394470e+12</td>\n",
       "    </tr>\n",
       "    <tr>\n",
       "      <th>25%</th>\n",
       "      <td>105801.500000</td>\n",
       "      <td>1.397349e+12</td>\n",
       "    </tr>\n",
       "    <tr>\n",
       "      <th>50%</th>\n",
       "      <td>211655.000000</td>\n",
       "      <td>1.399990e+12</td>\n",
       "    </tr>\n",
       "    <tr>\n",
       "      <th>75%</th>\n",
       "      <td>317273.500000</td>\n",
       "      <td>1.403775e+12</td>\n",
       "    </tr>\n",
       "    <tr>\n",
       "      <th>max</th>\n",
       "      <td>422937.000000</td>\n",
       "      <td>1.409229e+12</td>\n",
       "    </tr>\n",
       "  </tbody>\n",
       "</table>\n",
       "</div>"
      ],
      "text/plain": [
       "                  ID     TIMESTAMP\n",
       "count  422419.000000  4.224190e+05\n",
       "mean   211536.764594  1.400445e+12\n",
       "std    122102.839707  3.733088e+09\n",
       "min         1.000000  1.394470e+12\n",
       "25%    105801.500000  1.397349e+12\n",
       "50%    211655.000000  1.399990e+12\n",
       "75%    317273.500000  1.403775e+12\n",
       "max    422937.000000  1.409229e+12"
      ]
     },
     "execution_count": 3,
     "metadata": {},
     "output_type": "execute_result"
    }
   ],
   "source": [
    "df.describe()"
   ]
  },
  {
   "cell_type": "code",
   "execution_count": 4,
   "id": "137f2ff2",
   "metadata": {
    "execution": {
     "iopub.execute_input": "2024-09-04T16:11:09.557961Z",
     "iopub.status.busy": "2024-09-04T16:11:09.557546Z",
     "iopub.status.idle": "2024-09-04T16:11:09.857164Z",
     "shell.execute_reply": "2024-09-04T16:11:09.855467Z"
    },
    "papermill": {
     "duration": 0.310575,
     "end_time": "2024-09-04T16:11:09.860077",
     "exception": false,
     "start_time": "2024-09-04T16:11:09.549502",
     "status": "completed"
    },
    "tags": []
   },
   "outputs": [
    {
     "name": "stdout",
     "output_type": "stream",
     "text": [
      "<class 'pandas.core.frame.DataFrame'>\n",
      "RangeIndex: 422419 entries, 0 to 422418\n",
      "Data columns (total 8 columns):\n",
      " #   Column     Non-Null Count   Dtype \n",
      "---  ------     --------------   ----- \n",
      " 0   ID         422419 non-null  int64 \n",
      " 1   TITLE      422419 non-null  object\n",
      " 2   URL        422419 non-null  object\n",
      " 3   PUBLISHER  422417 non-null  object\n",
      " 4   CATEGORY   422419 non-null  object\n",
      " 5   STORY      422419 non-null  object\n",
      " 6   HOSTNAME   422419 non-null  object\n",
      " 7   TIMESTAMP  422419 non-null  int64 \n",
      "dtypes: int64(2), object(6)\n",
      "memory usage: 25.8+ MB\n"
     ]
    }
   ],
   "source": [
    "df.info()"
   ]
  },
  {
   "cell_type": "code",
   "execution_count": 5,
   "id": "ba6bd04f",
   "metadata": {
    "execution": {
     "iopub.execute_input": "2024-09-04T16:11:09.875233Z",
     "iopub.status.busy": "2024-09-04T16:11:09.874364Z",
     "iopub.status.idle": "2024-09-04T16:11:09.903326Z",
     "shell.execute_reply": "2024-09-04T16:11:09.901938Z"
    },
    "papermill": {
     "duration": 0.039972,
     "end_time": "2024-09-04T16:11:09.906315",
     "exception": false,
     "start_time": "2024-09-04T16:11:09.866343",
     "status": "completed"
    },
    "tags": []
   },
   "outputs": [],
   "source": [
    "df_work = df.copy()"
   ]
  },
  {
   "cell_type": "code",
   "execution_count": 6,
   "id": "5740e1e7",
   "metadata": {
    "execution": {
     "iopub.execute_input": "2024-09-04T16:11:09.920647Z",
     "iopub.status.busy": "2024-09-04T16:11:09.920201Z",
     "iopub.status.idle": "2024-09-04T16:11:09.957075Z",
     "shell.execute_reply": "2024-09-04T16:11:09.956005Z"
    },
    "papermill": {
     "duration": 0.047542,
     "end_time": "2024-09-04T16:11:09.960120",
     "exception": false,
     "start_time": "2024-09-04T16:11:09.912578",
     "status": "completed"
    },
    "tags": []
   },
   "outputs": [],
   "source": [
    "df_work = df_work[['TITLE', 'CATEGORY']]"
   ]
  },
  {
   "cell_type": "code",
   "execution_count": 7,
   "id": "04eb196b",
   "metadata": {
    "execution": {
     "iopub.execute_input": "2024-09-04T16:11:09.974247Z",
     "iopub.status.busy": "2024-09-04T16:11:09.973785Z",
     "iopub.status.idle": "2024-09-04T16:11:09.989188Z",
     "shell.execute_reply": "2024-09-04T16:11:09.988070Z"
    },
    "papermill": {
     "duration": 0.025776,
     "end_time": "2024-09-04T16:11:09.992147",
     "exception": false,
     "start_time": "2024-09-04T16:11:09.966371",
     "status": "completed"
    },
    "tags": []
   },
   "outputs": [
    {
     "data": {
      "text/html": [
       "<div>\n",
       "<style scoped>\n",
       "    .dataframe tbody tr th:only-of-type {\n",
       "        vertical-align: middle;\n",
       "    }\n",
       "\n",
       "    .dataframe tbody tr th {\n",
       "        vertical-align: top;\n",
       "    }\n",
       "\n",
       "    .dataframe thead th {\n",
       "        text-align: right;\n",
       "    }\n",
       "</style>\n",
       "<table border=\"1\" class=\"dataframe\">\n",
       "  <thead>\n",
       "    <tr style=\"text-align: right;\">\n",
       "      <th></th>\n",
       "      <th>TITLE</th>\n",
       "      <th>CATEGORY</th>\n",
       "    </tr>\n",
       "  </thead>\n",
       "  <tbody>\n",
       "    <tr>\n",
       "      <th>0</th>\n",
       "      <td>Fed official says weak data caused by weather,...</td>\n",
       "      <td>b</td>\n",
       "    </tr>\n",
       "    <tr>\n",
       "      <th>1</th>\n",
       "      <td>Fed's Charles Plosser sees high bar for change...</td>\n",
       "      <td>b</td>\n",
       "    </tr>\n",
       "    <tr>\n",
       "      <th>2</th>\n",
       "      <td>US open: Stocks fall after Fed official hints ...</td>\n",
       "      <td>b</td>\n",
       "    </tr>\n",
       "    <tr>\n",
       "      <th>3</th>\n",
       "      <td>Fed risks falling 'behind the curve', Charles ...</td>\n",
       "      <td>b</td>\n",
       "    </tr>\n",
       "    <tr>\n",
       "      <th>4</th>\n",
       "      <td>Fed's Plosser: Nasty Weather Has Curbed Job Gr...</td>\n",
       "      <td>b</td>\n",
       "    </tr>\n",
       "    <tr>\n",
       "      <th>...</th>\n",
       "      <td>...</td>\n",
       "      <td>...</td>\n",
       "    </tr>\n",
       "    <tr>\n",
       "      <th>422414</th>\n",
       "      <td>Surgeons to remove 4-year-old's rib to rebuild...</td>\n",
       "      <td>m</td>\n",
       "    </tr>\n",
       "    <tr>\n",
       "      <th>422415</th>\n",
       "      <td>Boy to have surgery on esophagus after battery...</td>\n",
       "      <td>m</td>\n",
       "    </tr>\n",
       "    <tr>\n",
       "      <th>422416</th>\n",
       "      <td>Child who swallowed battery to have reconstruc...</td>\n",
       "      <td>m</td>\n",
       "    </tr>\n",
       "    <tr>\n",
       "      <th>422417</th>\n",
       "      <td>Phoenix boy undergoes surgery to repair throat...</td>\n",
       "      <td>m</td>\n",
       "    </tr>\n",
       "    <tr>\n",
       "      <th>422418</th>\n",
       "      <td>Phoenix boy undergoes surgery to repair throat...</td>\n",
       "      <td>m</td>\n",
       "    </tr>\n",
       "  </tbody>\n",
       "</table>\n",
       "<p>422419 rows × 2 columns</p>\n",
       "</div>"
      ],
      "text/plain": [
       "                                                    TITLE CATEGORY\n",
       "0       Fed official says weak data caused by weather,...        b\n",
       "1       Fed's Charles Plosser sees high bar for change...        b\n",
       "2       US open: Stocks fall after Fed official hints ...        b\n",
       "3       Fed risks falling 'behind the curve', Charles ...        b\n",
       "4       Fed's Plosser: Nasty Weather Has Curbed Job Gr...        b\n",
       "...                                                   ...      ...\n",
       "422414  Surgeons to remove 4-year-old's rib to rebuild...        m\n",
       "422415  Boy to have surgery on esophagus after battery...        m\n",
       "422416  Child who swallowed battery to have reconstruc...        m\n",
       "422417  Phoenix boy undergoes surgery to repair throat...        m\n",
       "422418  Phoenix boy undergoes surgery to repair throat...        m\n",
       "\n",
       "[422419 rows x 2 columns]"
      ]
     },
     "execution_count": 7,
     "metadata": {},
     "output_type": "execute_result"
    }
   ],
   "source": [
    "df_work"
   ]
  },
  {
   "cell_type": "code",
   "execution_count": 8,
   "id": "9db0dddd",
   "metadata": {
    "execution": {
     "iopub.execute_input": "2024-09-04T16:11:10.007592Z",
     "iopub.status.busy": "2024-09-04T16:11:10.007148Z",
     "iopub.status.idle": "2024-09-04T16:11:10.012716Z",
     "shell.execute_reply": "2024-09-04T16:11:10.011547Z"
    },
    "papermill": {
     "duration": 0.016347,
     "end_time": "2024-09-04T16:11:10.015430",
     "exception": false,
     "start_time": "2024-09-04T16:11:09.999083",
     "status": "completed"
    },
    "tags": []
   },
   "outputs": [],
   "source": [
    "my_dict = {\n",
    "    'e': 'Entertainment',\n",
    "    'b': 'Business',\n",
    "    't': 'Science',\n",
    "    'm': 'Health'\n",
    "}"
   ]
  },
  {
   "cell_type": "code",
   "execution_count": 9,
   "id": "ce692398",
   "metadata": {
    "execution": {
     "iopub.execute_input": "2024-09-04T16:11:10.030881Z",
     "iopub.status.busy": "2024-09-04T16:11:10.029797Z",
     "iopub.status.idle": "2024-09-04T16:11:10.207091Z",
     "shell.execute_reply": "2024-09-04T16:11:10.205920Z"
    },
    "papermill": {
     "duration": 0.187921,
     "end_time": "2024-09-04T16:11:10.209863",
     "exception": false,
     "start_time": "2024-09-04T16:11:10.021942",
     "status": "completed"
    },
    "tags": []
   },
   "outputs": [],
   "source": [
    "def update_category(x):\n",
    "    return my_dict[x]\n",
    "\n",
    "df_work['CATEGORY'] = df_work['CATEGORY'].apply(lambda x: update_category(x))"
   ]
  },
  {
   "cell_type": "code",
   "execution_count": 10,
   "id": "7e5f5a61",
   "metadata": {
    "execution": {
     "iopub.execute_input": "2024-09-04T16:11:10.225558Z",
     "iopub.status.busy": "2024-09-04T16:11:10.225095Z",
     "iopub.status.idle": "2024-09-04T16:11:10.238267Z",
     "shell.execute_reply": "2024-09-04T16:11:10.237044Z"
    },
    "papermill": {
     "duration": 0.023882,
     "end_time": "2024-09-04T16:11:10.240655",
     "exception": false,
     "start_time": "2024-09-04T16:11:10.216773",
     "status": "completed"
    },
    "tags": []
   },
   "outputs": [
    {
     "data": {
      "text/html": [
       "<div>\n",
       "<style scoped>\n",
       "    .dataframe tbody tr th:only-of-type {\n",
       "        vertical-align: middle;\n",
       "    }\n",
       "\n",
       "    .dataframe tbody tr th {\n",
       "        vertical-align: top;\n",
       "    }\n",
       "\n",
       "    .dataframe thead th {\n",
       "        text-align: right;\n",
       "    }\n",
       "</style>\n",
       "<table border=\"1\" class=\"dataframe\">\n",
       "  <thead>\n",
       "    <tr style=\"text-align: right;\">\n",
       "      <th></th>\n",
       "      <th>TITLE</th>\n",
       "      <th>CATEGORY</th>\n",
       "    </tr>\n",
       "  </thead>\n",
       "  <tbody>\n",
       "    <tr>\n",
       "      <th>0</th>\n",
       "      <td>Fed official says weak data caused by weather,...</td>\n",
       "      <td>Business</td>\n",
       "    </tr>\n",
       "    <tr>\n",
       "      <th>1</th>\n",
       "      <td>Fed's Charles Plosser sees high bar for change...</td>\n",
       "      <td>Business</td>\n",
       "    </tr>\n",
       "    <tr>\n",
       "      <th>2</th>\n",
       "      <td>US open: Stocks fall after Fed official hints ...</td>\n",
       "      <td>Business</td>\n",
       "    </tr>\n",
       "    <tr>\n",
       "      <th>3</th>\n",
       "      <td>Fed risks falling 'behind the curve', Charles ...</td>\n",
       "      <td>Business</td>\n",
       "    </tr>\n",
       "    <tr>\n",
       "      <th>4</th>\n",
       "      <td>Fed's Plosser: Nasty Weather Has Curbed Job Gr...</td>\n",
       "      <td>Business</td>\n",
       "    </tr>\n",
       "    <tr>\n",
       "      <th>...</th>\n",
       "      <td>...</td>\n",
       "      <td>...</td>\n",
       "    </tr>\n",
       "    <tr>\n",
       "      <th>422414</th>\n",
       "      <td>Surgeons to remove 4-year-old's rib to rebuild...</td>\n",
       "      <td>Health</td>\n",
       "    </tr>\n",
       "    <tr>\n",
       "      <th>422415</th>\n",
       "      <td>Boy to have surgery on esophagus after battery...</td>\n",
       "      <td>Health</td>\n",
       "    </tr>\n",
       "    <tr>\n",
       "      <th>422416</th>\n",
       "      <td>Child who swallowed battery to have reconstruc...</td>\n",
       "      <td>Health</td>\n",
       "    </tr>\n",
       "    <tr>\n",
       "      <th>422417</th>\n",
       "      <td>Phoenix boy undergoes surgery to repair throat...</td>\n",
       "      <td>Health</td>\n",
       "    </tr>\n",
       "    <tr>\n",
       "      <th>422418</th>\n",
       "      <td>Phoenix boy undergoes surgery to repair throat...</td>\n",
       "      <td>Health</td>\n",
       "    </tr>\n",
       "  </tbody>\n",
       "</table>\n",
       "<p>422419 rows × 2 columns</p>\n",
       "</div>"
      ],
      "text/plain": [
       "                                                    TITLE  CATEGORY\n",
       "0       Fed official says weak data caused by weather,...  Business\n",
       "1       Fed's Charles Plosser sees high bar for change...  Business\n",
       "2       US open: Stocks fall after Fed official hints ...  Business\n",
       "3       Fed risks falling 'behind the curve', Charles ...  Business\n",
       "4       Fed's Plosser: Nasty Weather Has Curbed Job Gr...  Business\n",
       "...                                                   ...       ...\n",
       "422414  Surgeons to remove 4-year-old's rib to rebuild...    Health\n",
       "422415  Boy to have surgery on esophagus after battery...    Health\n",
       "422416  Child who swallowed battery to have reconstruc...    Health\n",
       "422417  Phoenix boy undergoes surgery to repair throat...    Health\n",
       "422418  Phoenix boy undergoes surgery to repair throat...    Health\n",
       "\n",
       "[422419 rows x 2 columns]"
      ]
     },
     "execution_count": 10,
     "metadata": {},
     "output_type": "execute_result"
    }
   ],
   "source": [
    "df_work"
   ]
  },
  {
   "cell_type": "code",
   "execution_count": 11,
   "id": "25ba1cf6",
   "metadata": {
    "execution": {
     "iopub.execute_input": "2024-09-04T16:11:10.256241Z",
     "iopub.status.busy": "2024-09-04T16:11:10.255759Z",
     "iopub.status.idle": "2024-09-04T16:11:10.349513Z",
     "shell.execute_reply": "2024-09-04T16:11:10.348267Z"
    },
    "papermill": {
     "duration": 0.10468,
     "end_time": "2024-09-04T16:11:10.352289",
     "exception": false,
     "start_time": "2024-09-04T16:11:10.247609",
     "status": "completed"
    },
    "tags": []
   },
   "outputs": [
    {
     "name": "stdout",
     "output_type": "stream",
     "text": [
      "4th generation Apple TV update possibility intensifies\n"
     ]
    }
   ],
   "source": [
    "import random\n",
    "\n",
    "def get_random_title_by_category(category):\n",
    "    filtered_df = df_work[df_work['CATEGORY']==category]\n",
    "    \n",
    "    return filtered_df['TITLE'].sample().values[0]\n",
    "\n",
    "category = 'Science'\n",
    "\n",
    "random_title = get_random_title_by_category(category)\n",
    "\n",
    "print(random_title)"
   ]
  },
  {
   "cell_type": "code",
   "execution_count": 12,
   "id": "70064686",
   "metadata": {
    "execution": {
     "iopub.execute_input": "2024-09-04T16:11:10.370694Z",
     "iopub.status.busy": "2024-09-04T16:11:10.369540Z",
     "iopub.status.idle": "2024-09-04T16:11:12.843923Z",
     "shell.execute_reply": "2024-09-04T16:11:12.842558Z"
    },
    "papermill": {
     "duration": 2.487493,
     "end_time": "2024-09-04T16:11:12.846706",
     "exception": false,
     "start_time": "2024-09-04T16:11:10.359213",
     "status": "completed"
    },
    "tags": []
   },
   "outputs": [
    {
     "data": {
      "image/png": "[encoded data removed]",
      "text/plain": [
       "<Figure size 1000x600 with 1 Axes>"
      ]
     },
     "metadata": {},
     "output_type": "display_data"
    }
   ],
   "source": [
    "import seaborn as sns\n",
    "import matplotlib.pyplot as plt\n",
    "\n",
    "# bar chart\n",
    "plt.figure(figsize=(10,6))\n",
    "sns.countplot(data=df_work, x='CATEGORY', order=df_work['CATEGORY'].value_counts().index)\n",
    "plt.title('Distribution of Categories')\n",
    "plt.xticks(rotation=45)\n",
    "plt.show()"
   ]
  },
  {
   "cell_type": "code",
   "execution_count": 13,
   "id": "a76df571",
   "metadata": {
    "execution": {
     "iopub.execute_input": "2024-09-04T16:11:12.864435Z",
     "iopub.status.busy": "2024-09-04T16:11:12.863796Z",
     "iopub.status.idle": "2024-09-04T16:11:13.089648Z",
     "shell.execute_reply": "2024-09-04T16:11:13.088444Z"
    },
    "papermill": {
     "duration": 0.238241,
     "end_time": "2024-09-04T16:11:13.092786",
     "exception": false,
     "start_time": "2024-09-04T16:11:12.854545",
     "status": "completed"
    },
    "tags": []
   },
   "outputs": [
    {
     "data": {
      "image/png": "[encoded data removed]",
      "text/plain": [
       "<Figure size 800x800 with 1 Axes>"
      ]
     },
     "metadata": {},
     "output_type": "display_data"
    }
   ],
   "source": [
    "category_counts = df_work['CATEGORY'].value_counts()\n",
    "\n",
    "plt.figure(figsize=(8,8))\n",
    "plt.pie(category_counts, labels=category_counts.index, autopct='%1.1f%%', startangle=140)\n",
    "plt.title('Propotion of each category')\n",
    "plt.show()"
   ]
  },
  {
   "cell_type": "code",
   "execution_count": null,
   "id": "392ed2db",
   "metadata": {
    "papermill": {
     "duration": 0.008088,
     "end_time": "2024-09-04T16:11:13.109212",
     "exception": false,
     "start_time": "2024-09-04T16:11:13.101124",
     "status": "completed"
    },
    "tags": []
   },
   "outputs": [],
   "source": []
  }
 ],
 "metadata": {
  "kaggle": {
   "accelerator": "none",
   "dataSources": [
    {
     "datasetId": 5644471,
     "sourceId": 9318587,
     "sourceType": "datasetVersion"
    }
   ],
   "dockerImageVersionId": 30761,
   "isGpuEnabled": false,
   "isInternetEnabled": true,
   "language": "python",
   "sourceType": "notebook"
  },
  "kernelspec": {
   "display_name": "Python 3",
   "language": "python",
   "name": "python3"
  },
  "language_info": {
   "codemirror_mode": {
    "name": "ipython",
    "version": 3
   },
   "file_extension": ".py",
   "mimetype": "text/x-python",
   "name": "python",
   "nbconvert_exporter": "python",
   "pygments_lexer": "ipython3",
   "version": "3.10.14"
  },
  "papermill": {
   "default_parameters": {},
   "duration": 11.800708,
   "end_time": "2024-09-04T16:11:13.840815",
   "environment_variables": {},
   "exception": null,
   "input_path": "__notebook__.ipynb",
   "output_path": "__notebook__.ipynb",
   "parameters": {},
   "start_time": "2024-09-04T16:11:02.040107",
   "version": "2.6.0"
  }
 },
 "nbformat": 4,
 "nbformat_minor": 5
}
